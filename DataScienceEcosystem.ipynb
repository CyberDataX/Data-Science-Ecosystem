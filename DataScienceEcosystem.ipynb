{
 "cells": [
  {
   "cell_type": "markdown",
   "id": "6d10cf2c-d757-4c9e-a0af-58968d45d6ce",
   "metadata": {},
   "source": [
    "# Data Science Tools and Ecosystem"
   ]
  },
  {
   "cell_type": "markdown",
   "id": "adf0bcc0-3875-4ed9-a99e-9db3bb99b4bd",
   "metadata": {},
   "source": [
    "In this notebook, Data Science Tools and Ecosystem are summarized."
   ]
  },
  {
   "cell_type": "markdown",
   "id": "122feb66-0b75-43fc-bb6d-fe504c55fcee",
   "metadata": {},
   "source": [
    "Some of the popular languages that Data Scientists use are:\n",
    "1. Python\n",
    "2. R\n",
    "3. SQL\n",
    "4. Java\n",
    "5. C++ etc..;"
   ]
  },
  {
   "cell_type": "markdown",
   "id": "58b60210-2a7a-498d-8bd5-8b54a6e833aa",
   "metadata": {},
   "source": [
    "Some of the commonly used libraries by Data Scientists include:\n",
    "1. Pandas\n",
    "2. NumPy\n",
    "3. Matplotlib\n",
    "4. Scikit-learn\n",
    "5. TensorFlow etc..;"
   ]
  },
  {
   "cell_type": "markdown",
   "id": "23a931b0-9089-4be1-9a44-461793c31258",
   "metadata": {},
   "source": [
    "| Data Science Tools |\n",
    "|---------------------|\n",
    "| Jupyter Notebook    |\n",
    "| RStudio             |\n",
    "| Apache Spark        |"
   ]
  },
  {
   "cell_type": "markdown",
   "id": "33a3f36d-0309-4bb0-b48c-b2ceed7d9f12",
   "metadata": {},
   "source": [
    "### Examples of arithmetic expressions in Python include addition, subtraction, multiplication, and division."
   ]
  },
  {
   "cell_type": "code",
   "execution_count": 7,
   "id": "aef10609-be96-4b55-b50d-2e5e7497b140",
   "metadata": {},
   "outputs": [
    {
     "data": {
      "text/plain": [
       "17"
      ]
     },
     "execution_count": 7,
     "metadata": {},
     "output_type": "execute_result"
    }
   ],
   "source": [
    "# Multiply and add integers\n",
    "(3 * 4) + 5"
   ]
  },
  {
   "cell_type": "code",
   "execution_count": 8,
   "id": "34c24271-0328-4f48-a83d-7c8e7989e648",
   "metadata": {},
   "outputs": [
    {
     "data": {
      "text/plain": [
       "120"
      ]
     },
     "execution_count": 8,
     "metadata": {},
     "output_type": "execute_result"
    }
   ],
   "source": [
    "# Convert hours to minutes\n",
    "hours = 2\n",
    "minutes = hours * 60\n",
    "minutes"
   ]
  },
  {
   "cell_type": "markdown",
   "id": "5f262a7f-e021-4153-b688-7ab586b16912",
   "metadata": {},
   "source": [
    "__The objectives:__\n",
    "- Learn Data Science languages\n",
    "- Explore libraries\n",
    "- Understand tools\n",
    "- Perform arithmetic operations"
   ]
  },
  {
   "cell_type": "markdown",
   "id": "3526c0f4-64a3-438a-840b-3079ef4d1b87",
   "metadata": {},
   "source": [
    "## Author \n",
    "Hashim Shaikh"
   ]
  }
 ],
 "metadata": {
  "kernelspec": {
   "display_name": "Python 3 (ipykernel)",
   "language": "python",
   "name": "python3"
  },
  "language_info": {
   "codemirror_mode": {
    "name": "ipython",
    "version": 3
   },
   "file_extension": ".py",
   "mimetype": "text/x-python",
   "name": "python",
   "nbconvert_exporter": "python",
   "pygments_lexer": "ipython3",
   "version": "3.13.7"
  }
 },
 "nbformat": 4,
 "nbformat_minor": 5
}
